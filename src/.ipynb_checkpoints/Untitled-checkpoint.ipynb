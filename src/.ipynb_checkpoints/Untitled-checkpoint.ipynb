{
 "cells": [
  {
   "cell_type": "code",
   "execution_count": 34,
   "metadata": {
    "collapsed": true
   },
   "outputs": [],
   "source": [
    "class Event(object):\n",
    "    \n",
    "    def __init__(self, customer_id, event_time):\n",
    "        self.customer_id = customer_id\n",
    "        self.event_time = event_time\n",
    "        \n",
    "    def getCustomerId(self):\n",
    "        return self.customer_id\n",
    "    \n",
    "    def getEventTime(self):\n",
    "        return self.event_time\n",
    "    \n",
    "    def __str__(self):\n",
    "        return \"%s, %s\" % (self.key, self.event_time)"
   ]
  },
  {
   "cell_type": "code",
   "execution_count": 35,
   "metadata": {
    "collapsed": true
   },
   "outputs": [],
   "source": [
    "class Customer(Event):\n",
    "\n",
    "    def __init__(self, key, event_time, last_name, adr_city, adr_state):\n",
    "        Event.__init__(self, key, event_time)\n",
    "        self.last_name = last_name\n",
    "        self.adr_city = adr_city\n",
    "        self.adr_state = adr_state\n",
    "    \n",
    "    \n",
    "    def getLastName(self):\n",
    "        return self.last_name\n",
    "    \n",
    "    def getAdrCity(self):\n",
    "        return self.adr_city\n",
    "    \n",
    "    def getAdrState(self):\n",
    "        self.adr_state\n",
    "\n",
    "    def __str__(self):\n",
    "        return \"%s, %s, %s\" % (self.last_name, self.adr_city, self.adr_state)\n",
    "    \n",
    "    def new_customer(key, event_time, last_name, adr_city, adr_state):\n",
    "        customer = Customer(key, event_time, last_name, adr_city, adr_state)\n",
    "        return customer\n"
   ]
  },
  {
   "cell_type": "code",
   "execution_count": 36,
   "metadata": {
    "collapsed": true
   },
   "outputs": [],
   "source": [
    "class SiteVisit(Event):\n",
    "    \n",
    "    def __init__(self, page_id, event_time, customer_id, tags):\n",
    "        Event.__init__(self, customer_id, event_time)\n",
    "        self.page_id = page_id\n",
    "        self.tags = tags\n",
    "    \n",
    "    def getPageId(self):\n",
    "        return self.page_id\n",
    "    \n",
    "    def getTags(self):\n",
    "        return self.tags\n",
    "    \n",
    "    def __str__(self):\n",
    "        return \"%s, %s\" % (self.page_id, self.tags)\n",
    "    \n",
    "    def new_site_visit(page_id, event_time, customer_id, tags):\n",
    "        site_visit = SiteVisit(page_id, event_time, customer_id, tags)\n",
    "        return site_visit"
   ]
  },
  {
   "cell_type": "code",
   "execution_count": 37,
   "metadata": {
    "collapsed": true
   },
   "outputs": [],
   "source": [
    "class ImageUpload(Event):\n",
    "    \n",
    "    def __init__(self, image_id, event_time, customer_id, camera_make, camera_model):\n",
    "        Event.__init__(self, customer_id, event_time)\n",
    "        self.image_id = image_id\n",
    "        self.camera_make = camera_make\n",
    "        self.camera_model = camera_model\n",
    "    \n",
    "    def getImageId(self):\n",
    "        return self.image_id\n",
    "    \n",
    "    def getCameraMake(self):\n",
    "        return self.camera_make\n",
    "    \n",
    "    def getCameraModel(self):\n",
    "        return self.camera_model\n",
    "    \n",
    "    def __str__(self):\n",
    "        return \"%s, %s, %s\" % (self.image_id, self.camera_make, self.camera_model)\n",
    "    \n",
    "    def upload_image(image_id, event_time, customer_id, camera_make, camera_model):\n",
    "        image_upload = ImageUpload(image_id, event_time, customer_id, camera_make, camera_model)\n",
    "        return image_upload\n",
    "    "
   ]
  },
  {
   "cell_type": "code",
   "execution_count": 38,
   "metadata": {
    "collapsed": true
   },
   "outputs": [],
   "source": [
    "class Order(Event):\n",
    "    \n",
    "    def __init__(self, order_id, event_time, customer_id, total_amount):\n",
    "        Event.__init__(self, customer_id, event_time)\n",
    "        self.order_id = order_id\n",
    "        self.total_amount = total_amount\n",
    "    \n",
    "    def getOrderId(self):\n",
    "        return self.order_id\n",
    "    \n",
    "    def getTotalAmount(self):\n",
    "        return self.total_amount\n",
    "    \n",
    "    def __str__(self):\n",
    "        return \"%s, %s\" % (self.order_id, self.total_amount)\n",
    "    \n",
    "    def new_order(order_id, event_time, customer_id, total_amount):\n",
    "        order = Order(order_id, event_time, customer_id, total_amount)\n",
    "        return order\n",
    "    "
   ]
  },
  {
   "cell_type": "code",
   "execution_count": 87,
   "metadata": {
    "collapsed": false
   },
   "outputs": [],
   "source": [
    "import os\n",
    "import json\n",
    "\n",
    "d = []\n",
    "cust_list = []\n",
    "site_visit_list = []\n",
    "image_upload_list = []\n",
    "order_list = []\n",
    "\n",
    "def update_customer(key, feature, new_value):\n",
    "        for customer in cust_list:\n",
    "            if key == customer.key:\n",
    "                customer.feature = new_value\n",
    "        \n",
    "def update_order(key, feature, new_value):\n",
    "        for order in order_list:\n",
    "            if key == order.key:\n",
    "                order.feature = new_value\n",
    "\n",
    "def Ingest(fileName):\n",
    "  try:\n",
    "    with open(fileName,\"r\") as json_data:\n",
    "        d = json.load(json_data)\n",
    "  except:\n",
    "    raise IOError(\"Can't open file %s for reading\" % fileName)\n",
    "    \n",
    "  try:\n",
    "    for row in d:\n",
    "        if \"CUSTOMER\" == row[\"type\"] and \"NEW\" == row[\"verb\"]:\n",
    "            cust = Customer(row[\"key\"], row[\"event_time\"], row[\"last_name\"], row[\"adr_city\"], row[\"adr_state\"])\n",
    "            cust_list.append(cust)\n",
    "        elif \"CUSTOMER\" == row[\"type\"] and \"UPDATE\" == row[\"verb\"]:\n",
    "            update_customer(row[\"key\"], row[\"last_name\"], \"Lincoln\")\n",
    "        elif \"SITE_VISIT\" == row[\"type\"] and \"NEW\" == row[\"verb\"]:\n",
    "            site_v = SiteVisit(row[\"key\"], row[\"event_time\"], row[\"customer_id\"], row[\"tags\"])\n",
    "            site_visit_list.append(site_v)\n",
    "        elif \"IMAGE\" == row[\"type\"] and \"UPLOAD\" == row[\"verb\"]:\n",
    "            image_u = ImageUpload(row[\"key\"], row[\"event_time\"], row[\"customer_id\"], row[\"camera_make\"], row[\"camera_model\"])\n",
    "            image_upload_list.append(image_u)\n",
    "        elif \"ORDER\" == row[\"type\"] and \"NEW\" == row[\"verb\"]:\n",
    "            ord = Order(row[\"key\"], row[\"event_time\"], row[\"customer_id\"], row[\"total_amount\"])\n",
    "            order_list.append(ord)\n",
    "        elif \"ORDER\" == row[\"type\"] and \"UPDATE\" == row[\"verb\"]:\n",
    "            update_order(row[\"key\"], row[\"total_amount\"], \"13 USD\")\n",
    "        else:\n",
    "            print(\"Error in reading file\")\n",
    "  except ValueError:\n",
    "    raise IOError(\"Error reading file %s at line:\\n%s\" % (fileName, row))\n",
    " "
   ]
  },
  {
   "cell_type": "code",
   "execution_count": 82,
   "metadata": {
    "collapsed": false
   },
   "outputs": [],
   "source": [
    "from datetime import datetime\n",
    "import operator\n",
    "\n",
    "CustomersExpenditure = {}\n",
    "CustomersVisits = {}\n",
    "CustomersSimpleLTV = {}\n",
    "\n",
    "def TopXSimpleLTVCustomers(x, order_list):\n",
    "    for a in order_list:\n",
    "        datetime_object = datetime.strptime(a.event_time, '%Y-%m-%dT%H:%M:%S.%fZ')\n",
    "        if 2017 == datetime_object.year and 1 == datetime_object.month and 1<datetime_object.day<7:\n",
    "            if a.customer_id in CustomersExpenditure:\n",
    "                order_amount = CustomersExpenditure.get(a.customer_id)\n",
    "                CustomersExpenditure[a.customer_id] = order_amount + a.total_amount\n",
    "                CustomersVisits[a.customer_id] += 1\n",
    "            else:\n",
    "                CustomersExpenditure[a.customer_id] = a.total_amount\n",
    "                CustomersVisits[a.customer_id] = 1\n",
    "\n",
    "    for k in CustomersExpenditure:\n",
    "        amt = CustomersExpenditure[k].split()\n",
    "        a = 52 * (float(amt[0]) * float(CustomersVisits.get(k))) * 10\n",
    "        CustomersSimpleLTV[k] = a\n",
    "    \n",
    "    try: \n",
    "        sorted_x = sorted(CustomersSimpleLTV.items(), key=operator.itemgetter(1))\n",
    "        for y in sorted_x[:x]:\n",
    "            with open(os.path.join('..', 'output', 'output.txt'), 'a') as output_file:\n",
    "                 output_file.write(\"Customer_id= {} : SimpleLTV= {}\\n\".format(y[0], y[1]))\n",
    "    except:\n",
    "        raise IOError(\"Can't open file %s for writing\" % f)"
   ]
  },
  {
   "cell_type": "code",
   "execution_count": 83,
   "metadata": {
    "collapsed": false
   },
   "outputs": [
    {
     "name": "stdout",
     "output_type": "stream",
     "text": [
      "1.0\n"
     ]
    }
   ],
   "source": [
    "TopXSimpleLTVCustomers(10, order_list)"
   ]
  },
  {
   "cell_type": "code",
   "execution_count": 88,
   "metadata": {
    "collapsed": false
   },
   "outputs": [],
   "source": [
    "Ingest(os.path.join('..', 'sample_input', 'events.txt'))"
   ]
  },
  {
   "cell_type": "code",
   "execution_count": null,
   "metadata": {
    "collapsed": true
   },
   "outputs": [],
   "source": []
  }
 ],
 "metadata": {
  "anaconda-cloud": {},
  "kernelspec": {
   "display_name": "Python [default]",
   "language": "python",
   "name": "python3"
  },
  "language_info": {
   "codemirror_mode": {
    "name": "ipython",
    "version": 3
   },
   "file_extension": ".py",
   "mimetype": "text/x-python",
   "name": "python",
   "nbconvert_exporter": "python",
   "pygments_lexer": "ipython3",
   "version": "3.5.2"
  }
 },
 "nbformat": 4,
 "nbformat_minor": 1
}
